{
 "cells": [
  {
   "cell_type": "code",
   "execution_count": 1,
   "id": "472bb552",
   "metadata": {
    "ExecuteTime": {
     "end_time": "2023-04-01T04:58:36.554814Z",
     "start_time": "2023-04-01T04:58:34.506298Z"
    }
   },
   "outputs": [],
   "source": [
    "#import libraries\n",
    "import numpy as np\n",
    "import pandas as pd\n",
    "from sklearn.linear_model import LinearRegression\n",
    "from sklearn.model_selection import train_test_split"
   ]
  },
  {
   "cell_type": "code",
   "execution_count": 2,
   "id": "8068cb37",
   "metadata": {
    "ExecuteTime": {
     "end_time": "2023-04-01T04:59:32.116536Z",
     "start_time": "2023-04-01T04:59:32.046723Z"
    }
   },
   "outputs": [],
   "source": [
    "#read data\n",
    "df_train = pd.read_csv('train.csv')\n",
    "df_test = pd.read_csv('test.csv')"
   ]
  },
  {
   "cell_type": "code",
   "execution_count": 4,
   "id": "df1f96e6",
   "metadata": {
    "ExecuteTime": {
     "end_time": "2023-04-01T05:00:26.370868Z",
     "start_time": "2023-04-01T05:00:26.345935Z"
    }
   },
   "outputs": [
    {
     "data": {
      "text/plain": [
       "Index(['squareMeters', 'numberOfRooms', 'hasYard', 'hasPool', 'floors',\n",
       "       'cityCode', 'cityPartRange', 'numPrevOwners', 'made', 'isNewBuilt',\n",
       "       'hasStormProtector', 'basement', 'attic', 'garage', 'hasStorageRoom',\n",
       "       'hasGuestRoom', 'price'],\n",
       "      dtype='object')"
      ]
     },
     "execution_count": 4,
     "metadata": {},
     "output_type": "execute_result"
    }
   ],
   "source": [
    "df_train.columns"
   ]
  },
  {
   "cell_type": "code",
   "execution_count": 5,
   "id": "cd7643f2",
   "metadata": {
    "ExecuteTime": {
     "end_time": "2023-04-01T05:00:40.326612Z",
     "start_time": "2023-04-01T05:00:40.315640Z"
    }
   },
   "outputs": [
    {
     "data": {
      "text/plain": [
       "Index(['squareMeters', 'numberOfRooms', 'hasYard', 'hasPool', 'floors',\n",
       "       'cityCode', 'cityPartRange', 'numPrevOwners', 'made', 'isNewBuilt',\n",
       "       'hasStormProtector', 'basement', 'attic', 'garage', 'hasStorageRoom',\n",
       "       'hasGuestRoom', 'price'],\n",
       "      dtype='object')"
      ]
     },
     "execution_count": 5,
     "metadata": {},
     "output_type": "execute_result"
    }
   ],
   "source": [
    "df_test.columns"
   ]
  },
  {
   "cell_type": "code",
   "execution_count": 6,
   "id": "37040fbf",
   "metadata": {
    "ExecuteTime": {
     "end_time": "2023-04-01T05:03:16.530702Z",
     "start_time": "2023-04-01T05:03:16.506769Z"
    }
   },
   "outputs": [],
   "source": [
    "x_train = np.array(df_train.drop(['price'], axis=1))\n",
    "x_test = np.array(df_test.drop(['price'], axis=1))\n",
    "y_train = np.array(df_train['price'])\n",
    "y_test = _train = np.array(df_test['price'])"
   ]
  },
  {
   "cell_type": "code",
   "execution_count": 7,
   "id": "71706227",
   "metadata": {
    "ExecuteTime": {
     "end_time": "2023-04-01T05:04:58.174141Z",
     "start_time": "2023-04-01T05:04:58.166176Z"
    }
   },
   "outputs": [],
   "source": [
    "lr_model = LinearRegression()"
   ]
  },
  {
   "cell_type": "code",
   "execution_count": 8,
   "id": "5ea87744",
   "metadata": {
    "ExecuteTime": {
     "end_time": "2023-04-01T05:05:02.539520Z",
     "start_time": "2023-04-01T05:05:02.348599Z"
    }
   },
   "outputs": [
    {
     "data": {
      "text/plain": [
       "LinearRegression()"
      ]
     },
     "execution_count": 8,
     "metadata": {},
     "output_type": "execute_result"
    }
   ],
   "source": [
    "lr_model.fit(x_train, y_train)"
   ]
  },
  {
   "cell_type": "code",
   "execution_count": 9,
   "id": "bd62486d",
   "metadata": {
    "ExecuteTime": {
     "end_time": "2023-04-01T05:05:16.473117Z",
     "start_time": "2023-04-01T05:05:16.451177Z"
    }
   },
   "outputs": [
    {
     "data": {
      "text/plain": [
       "0.999999561980484"
      ]
     },
     "execution_count": 9,
     "metadata": {},
     "output_type": "execute_result"
    }
   ],
   "source": [
    "lr_model.score(x_test, y_test)"
   ]
  },
  {
   "cell_type": "code",
   "execution_count": 11,
   "id": "95ea5729",
   "metadata": {
    "ExecuteTime": {
     "end_time": "2023-04-01T05:11:22.992487Z",
     "start_time": "2023-04-01T05:11:22.975540Z"
    }
   },
   "outputs": [],
   "source": [
    "import pickle"
   ]
  },
  {
   "cell_type": "code",
   "execution_count": 12,
   "id": "dd7acf3f",
   "metadata": {
    "ExecuteTime": {
     "end_time": "2023-04-01T05:12:33.194596Z",
     "start_time": "2023-04-01T05:12:33.174649Z"
    }
   },
   "outputs": [],
   "source": [
    "#write pickle file\n",
    "with open('lr_model.pkl', 'wb') as f:\n",
    "    pickle.dump(lr_model, f)\n",
    "f.close()"
   ]
  },
  {
   "cell_type": "code",
   "execution_count": null,
   "id": "18ec2074",
   "metadata": {},
   "outputs": [],
   "source": [
    "#read pickle file\n",
    "#with open('lr_model.pkl'. 'rb') as f:\n",
    "#    load_lr = pickle.load(f)"
   ]
  }
 ],
 "metadata": {
  "kernelspec": {
   "display_name": "Python 3 (ipykernel)",
   "language": "python",
   "name": "python3"
  },
  "language_info": {
   "codemirror_mode": {
    "name": "ipython",
    "version": 3
   },
   "file_extension": ".py",
   "mimetype": "text/x-python",
   "name": "python",
   "nbconvert_exporter": "python",
   "pygments_lexer": "ipython3",
   "version": "3.9.7"
  },
  "notify_time": "10",
  "toc": {
   "base_numbering": 1,
   "nav_menu": {},
   "number_sections": true,
   "sideBar": true,
   "skip_h1_title": false,
   "title_cell": "Table of Contents",
   "title_sidebar": "Contents",
   "toc_cell": false,
   "toc_position": {
    "height": "calc(100% - 180px)",
    "left": "10px",
    "top": "150px",
    "width": "438px"
   },
   "toc_section_display": true,
   "toc_window_display": false
  },
  "varInspector": {
   "cols": {
    "lenName": 16,
    "lenType": 16,
    "lenVar": 40
   },
   "kernels_config": {
    "python": {
     "delete_cmd_postfix": "",
     "delete_cmd_prefix": "del ",
     "library": "var_list.py",
     "varRefreshCmd": "print(var_dic_list())"
    },
    "r": {
     "delete_cmd_postfix": ") ",
     "delete_cmd_prefix": "rm(",
     "library": "var_list.r",
     "varRefreshCmd": "cat(var_dic_list()) "
    }
   },
   "types_to_exclude": [
    "module",
    "function",
    "builtin_function_or_method",
    "instance",
    "_Feature"
   ],
   "window_display": false
  }
 },
 "nbformat": 4,
 "nbformat_minor": 5
}
