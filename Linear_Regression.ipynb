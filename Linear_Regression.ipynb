{
 "cells": [
  {
   "cell_type": "code",
   "execution_count": 6,
   "id": "472bb552",
   "metadata": {
    "ExecuteTime": {
     "end_time": "2023-03-31T16:00:05.281583Z",
     "start_time": "2023-03-31T16:00:05.260636Z"
    }
   },
   "outputs": [],
   "source": [
    "#import libraries\n",
    "import numpy as np\n",
    "import pandas as pd\n",
    "from sklearn.linear_model import LinearRegression\n",
    "from matplotlib import pyplot as plt\n",
    "from sklearn.model_selection import train_test_split\n",
    "from sklearn.metrics import accuracy_score, f1_score, recall_score, precision_score, roc_auc_score, roc_curve"
   ]
  },
  {
   "cell_type": "code",
   "execution_count": 7,
   "id": "8068cb37",
   "metadata": {
    "ExecuteTime": {
     "end_time": "2023-03-31T16:00:13.527047Z",
     "start_time": "2023-03-31T16:00:13.449256Z"
    }
   },
   "outputs": [
    {
     "data": {
      "text/html": [
       "<div>\n",
       "<style scoped>\n",
       "    .dataframe tbody tr th:only-of-type {\n",
       "        vertical-align: middle;\n",
       "    }\n",
       "\n",
       "    .dataframe tbody tr th {\n",
       "        vertical-align: top;\n",
       "    }\n",
       "\n",
       "    .dataframe thead th {\n",
       "        text-align: right;\n",
       "    }\n",
       "</style>\n",
       "<table border=\"1\" class=\"dataframe\">\n",
       "  <thead>\n",
       "    <tr style=\"text-align: right;\">\n",
       "      <th></th>\n",
       "      <th>squareMeters</th>\n",
       "      <th>numberOfRooms</th>\n",
       "      <th>hasYard</th>\n",
       "      <th>hasPool</th>\n",
       "      <th>floors</th>\n",
       "      <th>cityCode</th>\n",
       "      <th>cityPartRange</th>\n",
       "      <th>numPrevOwners</th>\n",
       "      <th>made</th>\n",
       "      <th>isNewBuilt</th>\n",
       "      <th>hasStormProtector</th>\n",
       "      <th>basement</th>\n",
       "      <th>attic</th>\n",
       "      <th>garage</th>\n",
       "      <th>hasStorageRoom</th>\n",
       "      <th>hasGuestRoom</th>\n",
       "      <th>price</th>\n",
       "    </tr>\n",
       "  </thead>\n",
       "  <tbody>\n",
       "    <tr>\n",
       "      <th>0</th>\n",
       "      <td>75523</td>\n",
       "      <td>3</td>\n",
       "      <td>0</td>\n",
       "      <td>1</td>\n",
       "      <td>63</td>\n",
       "      <td>9373</td>\n",
       "      <td>3</td>\n",
       "      <td>8</td>\n",
       "      <td>2005</td>\n",
       "      <td>0</td>\n",
       "      <td>1</td>\n",
       "      <td>4313</td>\n",
       "      <td>9005</td>\n",
       "      <td>956</td>\n",
       "      <td>0</td>\n",
       "      <td>7</td>\n",
       "      <td>7559081.5</td>\n",
       "    </tr>\n",
       "    <tr>\n",
       "      <th>1</th>\n",
       "      <td>80771</td>\n",
       "      <td>39</td>\n",
       "      <td>1</td>\n",
       "      <td>1</td>\n",
       "      <td>98</td>\n",
       "      <td>39381</td>\n",
       "      <td>8</td>\n",
       "      <td>6</td>\n",
       "      <td>2015</td>\n",
       "      <td>1</td>\n",
       "      <td>0</td>\n",
       "      <td>3653</td>\n",
       "      <td>2436</td>\n",
       "      <td>128</td>\n",
       "      <td>1</td>\n",
       "      <td>2</td>\n",
       "      <td>8085989.5</td>\n",
       "    </tr>\n",
       "    <tr>\n",
       "      <th>2</th>\n",
       "      <td>55712</td>\n",
       "      <td>58</td>\n",
       "      <td>0</td>\n",
       "      <td>1</td>\n",
       "      <td>19</td>\n",
       "      <td>34457</td>\n",
       "      <td>6</td>\n",
       "      <td>8</td>\n",
       "      <td>2021</td>\n",
       "      <td>0</td>\n",
       "      <td>0</td>\n",
       "      <td>2937</td>\n",
       "      <td>8852</td>\n",
       "      <td>135</td>\n",
       "      <td>1</td>\n",
       "      <td>9</td>\n",
       "      <td>5574642.1</td>\n",
       "    </tr>\n",
       "    <tr>\n",
       "      <th>3</th>\n",
       "      <td>32316</td>\n",
       "      <td>47</td>\n",
       "      <td>0</td>\n",
       "      <td>0</td>\n",
       "      <td>6</td>\n",
       "      <td>27939</td>\n",
       "      <td>10</td>\n",
       "      <td>4</td>\n",
       "      <td>2012</td>\n",
       "      <td>0</td>\n",
       "      <td>1</td>\n",
       "      <td>659</td>\n",
       "      <td>7141</td>\n",
       "      <td>359</td>\n",
       "      <td>0</td>\n",
       "      <td>3</td>\n",
       "      <td>3232561.2</td>\n",
       "    </tr>\n",
       "    <tr>\n",
       "      <th>4</th>\n",
       "      <td>70429</td>\n",
       "      <td>19</td>\n",
       "      <td>1</td>\n",
       "      <td>1</td>\n",
       "      <td>90</td>\n",
       "      <td>38045</td>\n",
       "      <td>3</td>\n",
       "      <td>7</td>\n",
       "      <td>1990</td>\n",
       "      <td>1</td>\n",
       "      <td>0</td>\n",
       "      <td>8435</td>\n",
       "      <td>2429</td>\n",
       "      <td>292</td>\n",
       "      <td>1</td>\n",
       "      <td>4</td>\n",
       "      <td>7055052.0</td>\n",
       "    </tr>\n",
       "    <tr>\n",
       "      <th>...</th>\n",
       "      <td>...</td>\n",
       "      <td>...</td>\n",
       "      <td>...</td>\n",
       "      <td>...</td>\n",
       "      <td>...</td>\n",
       "      <td>...</td>\n",
       "      <td>...</td>\n",
       "      <td>...</td>\n",
       "      <td>...</td>\n",
       "      <td>...</td>\n",
       "      <td>...</td>\n",
       "      <td>...</td>\n",
       "      <td>...</td>\n",
       "      <td>...</td>\n",
       "      <td>...</td>\n",
       "      <td>...</td>\n",
       "      <td>...</td>\n",
       "    </tr>\n",
       "    <tr>\n",
       "      <th>9995</th>\n",
       "      <td>1726</td>\n",
       "      <td>89</td>\n",
       "      <td>0</td>\n",
       "      <td>1</td>\n",
       "      <td>5</td>\n",
       "      <td>73133</td>\n",
       "      <td>7</td>\n",
       "      <td>6</td>\n",
       "      <td>2009</td>\n",
       "      <td>0</td>\n",
       "      <td>1</td>\n",
       "      <td>9311</td>\n",
       "      <td>1698</td>\n",
       "      <td>218</td>\n",
       "      <td>0</td>\n",
       "      <td>4</td>\n",
       "      <td>176425.9</td>\n",
       "    </tr>\n",
       "    <tr>\n",
       "      <th>9996</th>\n",
       "      <td>44403</td>\n",
       "      <td>29</td>\n",
       "      <td>1</td>\n",
       "      <td>1</td>\n",
       "      <td>12</td>\n",
       "      <td>34606</td>\n",
       "      <td>9</td>\n",
       "      <td>4</td>\n",
       "      <td>1990</td>\n",
       "      <td>0</td>\n",
       "      <td>1</td>\n",
       "      <td>9061</td>\n",
       "      <td>1742</td>\n",
       "      <td>230</td>\n",
       "      <td>0</td>\n",
       "      <td>0</td>\n",
       "      <td>4448474.0</td>\n",
       "    </tr>\n",
       "    <tr>\n",
       "      <th>9997</th>\n",
       "      <td>83841</td>\n",
       "      <td>3</td>\n",
       "      <td>0</td>\n",
       "      <td>0</td>\n",
       "      <td>69</td>\n",
       "      <td>80933</td>\n",
       "      <td>10</td>\n",
       "      <td>10</td>\n",
       "      <td>2005</td>\n",
       "      <td>1</td>\n",
       "      <td>1</td>\n",
       "      <td>8304</td>\n",
       "      <td>7730</td>\n",
       "      <td>345</td>\n",
       "      <td>1</td>\n",
       "      <td>9</td>\n",
       "      <td>8390030.5</td>\n",
       "    </tr>\n",
       "    <tr>\n",
       "      <th>9998</th>\n",
       "      <td>59036</td>\n",
       "      <td>70</td>\n",
       "      <td>0</td>\n",
       "      <td>0</td>\n",
       "      <td>96</td>\n",
       "      <td>55856</td>\n",
       "      <td>1</td>\n",
       "      <td>3</td>\n",
       "      <td>2010</td>\n",
       "      <td>0</td>\n",
       "      <td>1</td>\n",
       "      <td>2590</td>\n",
       "      <td>6174</td>\n",
       "      <td>339</td>\n",
       "      <td>1</td>\n",
       "      <td>4</td>\n",
       "      <td>5905107.0</td>\n",
       "    </tr>\n",
       "    <tr>\n",
       "      <th>9999</th>\n",
       "      <td>1440</td>\n",
       "      <td>84</td>\n",
       "      <td>0</td>\n",
       "      <td>0</td>\n",
       "      <td>49</td>\n",
       "      <td>18412</td>\n",
       "      <td>6</td>\n",
       "      <td>10</td>\n",
       "      <td>1994</td>\n",
       "      <td>1</td>\n",
       "      <td>0</td>\n",
       "      <td>8485</td>\n",
       "      <td>2024</td>\n",
       "      <td>278</td>\n",
       "      <td>1</td>\n",
       "      <td>6</td>\n",
       "      <td>146708.4</td>\n",
       "    </tr>\n",
       "  </tbody>\n",
       "</table>\n",
       "<p>10000 rows × 17 columns</p>\n",
       "</div>"
      ],
      "text/plain": [
       "      squareMeters  numberOfRooms  hasYard  hasPool  floors  cityCode  \\\n",
       "0            75523              3        0        1      63      9373   \n",
       "1            80771             39        1        1      98     39381   \n",
       "2            55712             58        0        1      19     34457   \n",
       "3            32316             47        0        0       6     27939   \n",
       "4            70429             19        1        1      90     38045   \n",
       "...            ...            ...      ...      ...     ...       ...   \n",
       "9995          1726             89        0        1       5     73133   \n",
       "9996         44403             29        1        1      12     34606   \n",
       "9997         83841              3        0        0      69     80933   \n",
       "9998         59036             70        0        0      96     55856   \n",
       "9999          1440             84        0        0      49     18412   \n",
       "\n",
       "      cityPartRange  numPrevOwners  made  isNewBuilt  hasStormProtector  \\\n",
       "0                 3              8  2005           0                  1   \n",
       "1                 8              6  2015           1                  0   \n",
       "2                 6              8  2021           0                  0   \n",
       "3                10              4  2012           0                  1   \n",
       "4                 3              7  1990           1                  0   \n",
       "...             ...            ...   ...         ...                ...   \n",
       "9995              7              6  2009           0                  1   \n",
       "9996              9              4  1990           0                  1   \n",
       "9997             10             10  2005           1                  1   \n",
       "9998              1              3  2010           0                  1   \n",
       "9999              6             10  1994           1                  0   \n",
       "\n",
       "      basement  attic  garage  hasStorageRoom  hasGuestRoom      price  \n",
       "0         4313   9005     956               0             7  7559081.5  \n",
       "1         3653   2436     128               1             2  8085989.5  \n",
       "2         2937   8852     135               1             9  5574642.1  \n",
       "3          659   7141     359               0             3  3232561.2  \n",
       "4         8435   2429     292               1             4  7055052.0  \n",
       "...        ...    ...     ...             ...           ...        ...  \n",
       "9995      9311   1698     218               0             4   176425.9  \n",
       "9996      9061   1742     230               0             0  4448474.0  \n",
       "9997      8304   7730     345               1             9  8390030.5  \n",
       "9998      2590   6174     339               1             4  5905107.0  \n",
       "9999      8485   2024     278               1             6   146708.4  \n",
       "\n",
       "[10000 rows x 17 columns]"
      ]
     },
     "execution_count": 7,
     "metadata": {},
     "output_type": "execute_result"
    }
   ],
   "source": [
    "#read data\n",
    "df = pd.read_csv('cleaned_parishousing_dataset.csv')\n",
    "df"
   ]
  },
  {
   "cell_type": "code",
   "execution_count": 8,
   "id": "df1f96e6",
   "metadata": {
    "ExecuteTime": {
     "end_time": "2023-03-31T16:01:49.809230Z",
     "start_time": "2023-03-31T16:01:49.787289Z"
    }
   },
   "outputs": [],
   "source": [
    "x = np.array(df.drop(['price'], axis=1))  #drop target\n",
    "y = np.array(df['price'])  #target"
   ]
  },
  {
   "cell_type": "code",
   "execution_count": 10,
   "id": "cd7643f2",
   "metadata": {
    "ExecuteTime": {
     "end_time": "2023-03-31T16:02:08.221738Z",
     "start_time": "2023-03-31T16:02:08.199794Z"
    }
   },
   "outputs": [
    {
     "data": {
      "text/plain": [
       "array([[75523,     3,     0, ...,   956,     0,     7],\n",
       "       [80771,    39,     1, ...,   128,     1,     2],\n",
       "       [55712,    58,     0, ...,   135,     1,     9],\n",
       "       ...,\n",
       "       [83841,     3,     0, ...,   345,     1,     9],\n",
       "       [59036,    70,     0, ...,   339,     1,     4],\n",
       "       [ 1440,    84,     0, ...,   278,     1,     6]], dtype=int64)"
      ]
     },
     "execution_count": 10,
     "metadata": {},
     "output_type": "execute_result"
    }
   ],
   "source": [
    "x"
   ]
  },
  {
   "cell_type": "code",
   "execution_count": 11,
   "id": "37040fbf",
   "metadata": {
    "ExecuteTime": {
     "end_time": "2023-03-31T16:02:13.529562Z",
     "start_time": "2023-03-31T16:02:13.507621Z"
    }
   },
   "outputs": [
    {
     "data": {
      "text/plain": [
       "array([7559081.5, 8085989.5, 5574642.1, ..., 8390030.5, 5905107. ,\n",
       "        146708.4])"
      ]
     },
     "execution_count": 11,
     "metadata": {},
     "output_type": "execute_result"
    }
   ],
   "source": [
    "y"
   ]
  },
  {
   "cell_type": "code",
   "execution_count": 13,
   "id": "688c5565",
   "metadata": {
    "ExecuteTime": {
     "end_time": "2023-03-31T16:04:34.628288Z",
     "start_time": "2023-03-31T16:04:34.608308Z"
    }
   },
   "outputs": [],
   "source": [
    "x_train, x_test, y_train, y_test = train_test_split(x,\n",
    "                                                    y,\n",
    "                                                    test_size=0.3,\n",
    "                                                    random_state=23,\n",
    "                                                    shuffle=True)"
   ]
  },
  {
   "cell_type": "code",
   "execution_count": 14,
   "id": "71706227",
   "metadata": {
    "ExecuteTime": {
     "end_time": "2023-03-31T16:05:09.711710Z",
     "start_time": "2023-03-31T16:05:09.702739Z"
    }
   },
   "outputs": [],
   "source": [
    "lr_model = LinearRegression()"
   ]
  },
  {
   "cell_type": "code",
   "execution_count": 15,
   "id": "5ea87744",
   "metadata": {
    "ExecuteTime": {
     "end_time": "2023-03-31T16:06:09.970569Z",
     "start_time": "2023-03-31T16:06:08.827625Z"
    }
   },
   "outputs": [
    {
     "data": {
      "text/plain": [
       "LinearRegression()"
      ]
     },
     "execution_count": 15,
     "metadata": {},
     "output_type": "execute_result"
    }
   ],
   "source": [
    "lr_model.fit(x_train, y_train)"
   ]
  },
  {
   "cell_type": "code",
   "execution_count": 16,
   "id": "425f3532",
   "metadata": {
    "ExecuteTime": {
     "end_time": "2023-03-31T16:07:07.639758Z",
     "start_time": "2023-03-31T16:07:07.622766Z"
    }
   },
   "outputs": [
    {
     "name": "stdout",
     "output_type": "stream",
     "text": [
      "Coefficients:  [ 1.00000322e+02  4.90699929e-01  3.01017785e+03  2.98151937e+03\n",
      "  5.42239496e+01 -6.87734072e-04  4.20512505e+01 -1.80568339e+00\n",
      " -2.22712608e+00  1.65866306e+02  1.26514250e+02  4.94854648e-03\n",
      " -1.06933047e-02  1.94226402e-01  2.34058588e+01 -1.22825732e+01]\n"
     ]
    }
   ],
   "source": [
    "# regression coefficients\n",
    "print('Coefficients: ', lr_model.coef_)"
   ]
  },
  {
   "cell_type": "code",
   "execution_count": 18,
   "id": "bf505e24",
   "metadata": {
    "ExecuteTime": {
     "end_time": "2023-03-31T16:09:56.746040Z",
     "start_time": "2023-03-31T16:09:56.510667Z"
    }
   },
   "outputs": [],
   "source": [
    "y_pred = lr_model.predict(x_test)"
   ]
  },
  {
   "cell_type": "code",
   "execution_count": 20,
   "id": "bd62486d",
   "metadata": {
    "ExecuteTime": {
     "end_time": "2023-03-31T16:10:46.649707Z",
     "start_time": "2023-03-31T16:10:46.623777Z"
    }
   },
   "outputs": [
    {
     "data": {
      "text/plain": [
       "0.9999995564824372"
      ]
     },
     "execution_count": 20,
     "metadata": {},
     "output_type": "execute_result"
    }
   ],
   "source": [
    "lr_model.score(x_test, y_test)"
   ]
  },
  {
   "cell_type": "code",
   "execution_count": 28,
   "id": "b0e055b4",
   "metadata": {
    "ExecuteTime": {
     "end_time": "2023-03-31T16:24:35.680243Z",
     "start_time": "2023-03-31T16:24:35.245406Z"
    }
   },
   "outputs": [
    {
     "data": {
      "image/png": "[encoded data removed]",
      "text/plain": [
       "<Figure size 1440x720 with 1 Axes>"
      ]
     },
     "metadata": {},
     "output_type": "display_data"
    }
   ],
   "source": [
    "#plt training & testing datapoint\n",
    "plt.style.use('fivethirtyeight')\n",
    "plt.figure(figsize=(20, 10))\n",
    "# plotting residual errors in training data\n",
    "\"\"\"plt.scatter(lr_model.predict(x_train),\n",
    "            lr_model.predict(x_train) - y_train,\n",
    "            color=\"green\",\n",
    "            s=10,\n",
    "            label='Train data')\"\"\"\n",
    "# plotting residual errors in test data\n",
    "plt.scatter(lr_model.predict(x_test),\n",
    "            lr_model.predict(x_test) - y_test,\n",
    "            color=\"blue\",\n",
    "            s=10,\n",
    "            label='Test data')\n",
    "# plotting line for zero residual error\n",
    "plt.hlines(y=0, xmin=0, xmax=100, linewidth=2)\n",
    "# plotting legend\n",
    "plt.legend(loc='upper right')\n",
    "# plot title\n",
    "plt.title(\"Residual errors\")\n",
    "# method call for showing the plot\n",
    "plt.show()"
   ]
  },
  {
   "cell_type": "code",
   "execution_count": null,
   "id": "95ea5729",
   "metadata": {},
   "outputs": [],
   "source": []
  }
 ],
 "metadata": {
  "kernelspec": {
   "display_name": "Python 3 (ipykernel)",
   "language": "python",
   "name": "python3"
  },
  "language_info": {
   "codemirror_mode": {
    "name": "ipython",
    "version": 3
   },
   "file_extension": ".py",
   "mimetype": "text/x-python",
   "name": "python",
   "nbconvert_exporter": "python",
   "pygments_lexer": "ipython3",
   "version": "3.9.7"
  },
  "notify_time": "10",
  "toc": {
   "base_numbering": 1,
   "nav_menu": {},
   "number_sections": true,
   "sideBar": true,
   "skip_h1_title": false,
   "title_cell": "Table of Contents",
   "title_sidebar": "Contents",
   "toc_cell": false,
   "toc_position": {
    "height": "calc(100% - 180px)",
    "left": "10px",
    "top": "150px",
    "width": "438px"
   },
   "toc_section_display": true,
   "toc_window_display": false
  },
  "varInspector": {
   "cols": {
    "lenName": 16,
    "lenType": 16,
    "lenVar": 40
   },
   "kernels_config": {
    "python": {
     "delete_cmd_postfix": "",
     "delete_cmd_prefix": "del ",
     "library": "var_list.py",
     "varRefreshCmd": "print(var_dic_list())"
    },
    "r": {
     "delete_cmd_postfix": ") ",
     "delete_cmd_prefix": "rm(",
     "library": "var_list.r",
     "varRefreshCmd": "cat(var_dic_list()) "
    }
   },
   "types_to_exclude": [
    "module",
    "function",
    "builtin_function_or_method",
    "instance",
    "_Feature"
   ],
   "window_display": false
  }
 },
 "nbformat": 4,
 "nbformat_minor": 5
}
